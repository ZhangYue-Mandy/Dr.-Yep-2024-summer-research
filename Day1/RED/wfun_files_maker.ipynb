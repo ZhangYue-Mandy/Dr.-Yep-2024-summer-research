{
 "cells": [
  {
   "cell_type": "code",
   "execution_count": 30,
   "id": "78946320-deb4-4fe3-a657-d0bb0899042e",
   "metadata": {},
   "outputs": [],
   "source": [
    "import os\n",
    "import shutil\n",
    "global starname\n",
    "#make a folder called 'wfun'\n",
    "def mkdir(path):\n",
    "    path = path.strip()\n",
    "    path = path.rstrip(\"\\\\\")\n",
    "    isExists = os.path.exists(path)\n",
    "    if not isExists:\n",
    "        os.makedirs(path)\n",
    "        return True\n",
    "    else:\n",
    "        return False\n"
   ]
  },
  {
   "cell_type": "code",
   "execution_count": 31,
   "id": "f04d5dbd",
   "metadata": {},
   "outputs": [
    {
     "data": {
      "text/plain": [
       "False"
      ]
     },
     "execution_count": 31,
     "metadata": {},
     "output_type": "execute_result"
    }
   ],
   "source": [
    "\n",
    "#Save to a file for this star.\n",
    "\n",
    "#get our currently working folder\n",
    "source_folder = os.getcwd()\n",
    "#create a folder call wfun (we can change it to anything else if we are trying to reuse it)\n",
    "wfun_path = os.path.join(source_folder, 'wfun')\n",
    "wfun_check_path = os.path.join(source_folder, 'wfun_check')\n",
    "mkdir(wfun_path)\n",
    "mkdir(wfun_check_path)"
   ]
  },
  {
   "cell_type": "code",
   "execution_count": 32,
   "id": "d629d12f-6fe2-4359-a483-27e112485c1d",
   "metadata": {},
   "outputs": [],
   "source": [
    "from PIL import Image, ImageDraw, ImageFont\n",
    "#scan the file list so that we could put it in\n",
    "def scan_file(source_folder, extension=\".fits\"):\n",
    "    wfun_list = os.listdir(wfun_check_path)\n",
    "    file_list = os.listdir(source_folder)\n",
    "    specific_files = [file for file in file_list if file.lower().startswith(\"ecfzst\") and file.lower().endswith(extension.lower()) ]\n",
    "    return wfun_list,specific_files\n",
    "\n",
    "\n",
    "def check_info():\n",
    "    return None\n",
    "\n",
    "\n",
    "def write_io(info_file,info): #Function to write picture to a file\n",
    "    # if isinstance(info, str):\n",
    "    #     # Write in text mode\n",
    "    with open(info_file+'\\\\check_information.txt', 'a') as f:\n",
    "        f.write(info)\n",
    "    # else:\n",
    "    #     with open(info_file+'\\\\check\\\\'+starname+'.png', 'wb') as f:\n",
    "    #         f.write(info)\n",
    "\n",
    "\n",
    "\n",
    "def combine_images_grid(image_paths, output_path, grid_size):\n",
    "    images = [Image.open(path) for path in image_paths]\n",
    "    width, height = images[0].size\n",
    "    \n",
    "    # Calculate the size of the combined image\n",
    "    combined_width = width * grid_size[0]\n",
    "    combined_height = height * grid_size[1]\n",
    "    \n",
    "    combined_image = Image.new('RGB', (combined_width, combined_height))\n",
    "    \n",
    "    for index, image in enumerate(images):\n",
    "        x_offset = (index % grid_size[0]) * width\n",
    "        y_offset = (index // grid_size[0]) * height\n",
    "        combined_image.paste(image, (x_offset, y_offset))\n",
    "    \n",
    "    combined_image.save(output_path)"
   ]
  },
  {
   "cell_type": "code",
   "execution_count": 33,
   "id": "84ed7034-46a0-4114-a1d0-1628fb9d539a",
   "metadata": {},
   "outputs": [],
   "source": [
    "#Load packages and functions\n",
    "\n",
    "import numpy as np\n",
    "import astropy.io.fits as fits\n",
    "import glob\n",
    "import matplotlib.pyplot as plt\n",
    "import astropy\n",
    "from astropy import modeling\n",
    "from scipy.signal import argrelextrema\n",
    "from scipy import asarray as ar, exp, sqrt\n",
    "from scipy.optimize import curve_fit\n",
    "\n",
    "#wavelength, flux\n",
    "def wf(dat): #whichord,dat. Setup:   w,f=wf(#,dat)\n",
    "    w=np.array([d[0] for d in dat])\n",
    "    f=np.array([d[1] for d in dat])\n",
    "    return w,f\n",
    "\n",
    "#Ultimate opendat:\n",
    "def opendatt(dir,filename,spl=''): #dir,'filename'. For opening a data file. Can then send through roundtable.\n",
    "    f=open(dir+filename,'r')\n",
    "    dat=f.readlines()\n",
    "    f.close()\n",
    "    if spl=='':\n",
    "        labels=dat[0][0:-1].split()\n",
    "        dat2=[[a.strip('\\n') for a in d.split()] for d in dat if d[0]!='#']\n",
    "    else:\n",
    "        labels=dat[0][0:-1].split(spl)\n",
    "        dat2=[[a.strip('\\n') for a in d.split(spl)] for d in dat if d[0]!='#']\n",
    "    dat3=[['nan' if a.strip()=='' else a for a in d] for d in dat2]\n",
    "    return [dat3,labels]\n",
    "\n",
    "def opendat(dirr,filename,params,splitchar=''): #Use as var,var,var...=opendat(dir,'filename',['keys']).\n",
    "    if splitchar=='':\n",
    "        dat,label=opendatt(dirr,filename)\n",
    "    else:\n",
    "        dat,label=opendatt(dirr,filename,splitchar)  #Get keys by first leaving ['keys'] blank: opendat(dirr,filename,[])\n",
    "    print(label)\n",
    "    varrs=[]\n",
    "    for i in range(len(params)):\n",
    "        j=label.index(params[i])\n",
    "        try:\n",
    "            var=np.array([float(d[j]) for d in dat]) #works for float.\n",
    "            varrs.append(var)\n",
    "        except ValueError:\n",
    "            var=[d[j].strip() for d in dat] #works for strings.\n",
    "            varrs.append(var)\n",
    "    if len(params)==1:\n",
    "        varrs=varrs[0]\n",
    "    return varrs\n",
    "\n",
    "def writedat(dirr,filename,pars,label): #.dat auto included. pars as [name,ra,dec] etc.\n",
    "    datp=[[str(a[i]) for a in pars] for i in range(len(pars[0]))]\n",
    "    f=open(dirr+filename+'.dat','w')\n",
    "    print('\\t'.join(label),file=f)\n",
    "    print(label)\n",
    "    for d in datp:\n",
    "        print('\\t'.join(d),file=f)\n",
    "    f.close()\n",
    "    print('It is written: '+filename+'.dat')"
   ]
  },
  {
   "cell_type": "code",
   "execution_count": 34,
   "id": "5779ad05-a16e-4672-9cdf-09b68c8cc0d9",
   "metadata": {},
   "outputs": [
    {
     "name": "stdout",
     "output_type": "stream",
     "text": [
      "['#wavelength', 'flux']\n"
     ]
    }
   ],
   "source": [
    "#Open laboratory Ne lines:\n",
    "wN,fN=opendat('',r'C:\\Users\\ZY\\Documents\\github\\233boy\\StarsinRadiationEnvironment\\NeLines.dat',['#wavelength','flux'])\n",
    "\n",
    "#Open e-fits file:\n",
    "def efits(file):\n",
    "    hdu=fits.open(file)\n",
    "    data=hdu[0].data\n",
    "    head=hdu[0].header\n",
    "    hdu.close()\n",
    "    return data,head #flux\n",
    "\n",
    "#Define pixel-center-finding function:\n",
    "#Operates on e..._comp.fits files.\n",
    "starfile=r'C:\\Users\\ZY\\Downloads\\ecfzst_0056_CG4_8.fits'\n",
    "fstar,head=efits(starfile)\n",
    "\n",
    "def fileprocess(lampfile):\n",
    "    flamp,head=efits(lampfile)\n",
    "    starname=head['Object']\n",
    "    identity=head['GSP_FNAM']\n",
    "    #draw the graph and save the picture\n",
    "    w,count=wcal(flamp)\n",
    "    # Paths to the images to combine\n",
    "    image_paths = scan_file(source_folder+'\\\\wfun_check', extension=\".png\")\n",
    "    \n",
    "    # Path to the output image\n",
    "    output_path = source_folder+'\\\\wfun_check\\\\'+starname+'_'+identity+'.jpg'\n",
    "    \n",
    "    # Combine images in a designed grid\n",
    "    combine_images_grid(image_paths, output_path, (count//4,5))\n",
    "    delfile=scan_file(source_folder+'\\\\wfun_check', extension=\".png\")\n",
    "    for i in delfile:\n",
    "        os.remove(i)\n",
    "    writedat(source_folder+'\\\\wfun\\\\','wfun_'+identity,[w,fstar],['#w','f'])\n",
    "\n",
    "\n",
    "def centralpixels(f,pltt='y'): #give flux from e-type comp file, toggle plots; compare to lab Ne at end\n",
    "    maxx=[i for i in argrelextrema(f,np.greater)[0] if f[i]>10000]\n",
    "    print(maxx)\n",
    "    write_io(source_folder+'\\\\wfun_check',str(maxx)+'\\r',starname)\n",
    "    for m in maxx:\n",
    "        write_io(source_folder+'\\\\wfun_check',f'{m}:{f[m]}'+'\\r',starname)\n",
    "    \n",
    "        \n",
    "    #check you got them all:\n",
    "    if pltt=='y':\n",
    "        plt.figure()\n",
    "        plt.plot(f)\n",
    "        plt.scatter(maxx,np.array(f)[np.array(maxx)],c='darkorange')\n",
    "        plt.xlabel('pixel')\n",
    "        plt.ylabel('flux count')\n",
    "        plt.savefig(source_folder+'\\\\wfun_check\\\\'+starname+'scan')\n",
    "    \n",
    "    #Fit each maxx line peak out to 5000 flux counts:\n",
    "    pcs=[] #pixel centers\n",
    "    for i in range(len(maxx)):\n",
    "        #go out left until below 5000, out right until below 5000\n",
    "        cp=maxx[i] #central pixel\n",
    "        b,e=cp-10,cp+10\n",
    "\n",
    "        p=[] #left edge of line\n",
    "        i=cp\n",
    "        #print(f[i])\n",
    "        while f[i]>5000 and abs(cp-i)<10:\n",
    "            p.append(i)\n",
    "            i-=1\n",
    "        l=np.min(p)\n",
    "\n",
    "        p=[] #right edge of line\n",
    "        i=cp\n",
    "        #print(f[i])\n",
    "        while f[i]>5000 and abs(cp-i)<10:\n",
    "            p.append(i)\n",
    "            i+=1\n",
    "        r=np.max(p)\n",
    "\n",
    "        del p\n",
    "        #print(l,r)\n",
    "\n",
    "        pe=np.array(range(l,r)) #pixels of the emission line\n",
    "        fe=np.array([f[i] for i in pe]) #fluxes of the emission line\n",
    "        \n",
    "        if pltt=='y':\n",
    "            plt.figure()\n",
    "            plt.plot(range(b,e),f[b:e])\n",
    "            plt.plot(pe,fe)\n",
    "            plt.xticks([b,l,cp,r,e])\n",
    "            plt.xlabel('pixel')\n",
    "            plt.ylabel('flux count')\n",
    "        \n",
    "        #fit a Gaussian to the emission line to find its center!\n",
    "\n",
    "        PE = ar(pe)\n",
    "        FE = ar(fe)\n",
    "\n",
    "        n = len(FE)  ## <---\n",
    "        mean = sum(FE*PE)/n\n",
    "        sigma = sqrt(sum(FE*(PE-mean)**2)/n)\n",
    "\n",
    "        def gaus(x,a,mu,sigma):\n",
    "            return a*exp(-(x-cp-mu)**2/(2*sigma**2))\n",
    "\n",
    "        popt,pcov = curve_fit(gaus,PE,FE)#,p0=[0.18,mean,sigma])  ## <--- leave out the first estimation of the parameters\n",
    "\n",
    "        xx = np.linspace( cp-10, cp+10, 100 )  ## <--- calculate against a continuous variable\n",
    "        pc=cp+popt[1] #central wavelength\n",
    "        \n",
    "        if pltt=='y':\n",
    "            plt.figure()\n",
    "            plt.scatter(PE, FE, label = \"Measured\",c='deepskyblue')\n",
    "            plt.plot(xx,gaus(xx,*popt),c='darkorange',label='Fit')  ## <--- plot against the contious variable\n",
    "            plt.scatter(pc,gaus(pc,*popt),zorder=10,marker='+',s=100,c='red')\n",
    "            plt.xticks([b,l,cp,r,e])\n",
    "            plt.xlabel('pixel')\n",
    "            plt.ylabel('flux count')\n",
    "            plt.savefig(source_folder+'\\\\wfun_check\\\\'+starname+'plot'+str(i))\n",
    "        \n",
    "        print('Pixel center of emission line:',pc)\n",
    "        pcs.append(pc)\n",
    "    \n",
    "    #Check results against lab Ne\n",
    "    print('\\nNeon lines needed:',len(wN))\n",
    "    print('emission lines found:',len(pcs))\n",
    "    if len(wN)-len(pcs)>0:\n",
    "        print('!!! line(s) not found!')\n",
    "    plt.figure()\n",
    "    plt.plot(f)\n",
    "    for p in pcs:\n",
    "        plt.plot([p,p],[np.min(f),np.max(f)],c='darkorange',alpha=0.5)\n",
    "        plt.savefig(source_folder+'\\\\wfun_check\\\\'+starname+'check')\n",
    "    \n",
    "    return pcs,len(maxx)\n",
    "\n",
    "# Make list of calibrated wavelengths:\n",
    "def wcal(f,plttt='y'): #input e..._comp.fits comparison lamp file\n",
    "    #find central pixel locations of lamp emission lines:\n",
    "    pc,count=centralpixels(f,pltt=plttt)\n",
    "    \n",
    "    # Take list of pixel centers and laboratory neon line wavelengths and map pixels to wavelengths.\n",
    "    wfitz,a,b,c,d=np.polyfit(pc,wN,3,full=True)\n",
    "    print(a[0])\n",
    "\n",
    "    x=range(len(f))\n",
    "    wfit=np.poly1d(wfitz)\n",
    "    w=wfit(x)\n",
    "    if plttt=='y':\n",
    "        plt.figure()\n",
    "        plt.scatter(pc,wN)\n",
    "        plt.plot(x,w)\n",
    "        plt.savefig(source_folder+'\\\\wfun_check\\\\'+starname+'linecheck')\n",
    "    return w,count\n",
    "\n",
    "#look at results and see if Ha is in right place:\n",
    "def plotspec(w,fstar):\n",
    "    plt.figure()\n",
    "    plt.plot(w,fstar)\n",
    "    plt.plot([6563,6563],[np.min(fstar),np.max(fstar)],c='red',lw=1)\n",
    "    plt.xlabel('Wavelength (A)')\n",
    "    plt.ylabel('Flux Counts')"
   ]
  },
  {
   "cell_type": "code",
   "execution_count": 35,
   "id": "1bfad506-5aa2-4dae-a9dd-a1750cfc8d09",
   "metadata": {},
   "outputs": [
    {
     "data": {
      "text/plain": [
       "[<matplotlib.lines.Line2D at 0x1d7f19d2890>]"
      ]
     },
     "execution_count": 35,
     "metadata": {},
     "output_type": "execute_result"
    },
    {
     "data": {
      "image/png": "[encoded data removed]",
      "text/plain": [
       "<Figure size 640x480 with 1 Axes>"
      ]
     },
     "metadata": {},
     "output_type": "display_data"
    },
    {
     "data": {
      "image/png": "[encoded data removed]",
      "text/plain": [
       "<Figure size 640x480 with 1 Axes>"
      ]
     },
     "metadata": {},
     "output_type": "display_data"
    }
   ],
   "source": [
    "#Get fluxes from opening e-files.\n",
    "\n",
    "#star\n",
    "starfile=r'C:\\Users\\ZY\\Downloads\\ecfzst_0056_CG4_8.fits'\n",
    "fstar,head=efits(starfile)\n",
    "#check:\n",
    "plt.figure()\n",
    "plt.plot(fstar)\n",
    "\n",
    "#comparison lamp\n",
    "lampfile=r'C:\\Users\\ZY\\Downloads\\ecfzst_0057_CG4_8_comp_165.98-175.83.fits'\n",
    "flamp,header=efits(lampfile)\n",
    "#check:\n",
    "plt.figure()\n",
    "plt.plot(flamp)"
   ]
  },
  {
   "cell_type": "code",
   "execution_count": 36,
   "id": "7b2557a3-4df8-43f3-aa01-36f6394e9436",
   "metadata": {},
   "outputs": [
    {
     "name": "stdout",
     "output_type": "stream",
     "text": [
      "opening file: C:\\Users\\ZY\\Downloads\\ecfzst_0057_CG4_8_comp_165.98-175.83.fits\n",
      "[37, 175, 537, 873, 1136, 1342, 1681, 1817, 2563, 2755, 3243, 3842]\n"
     ]
    },
    {
     "ename": "NameError",
     "evalue": "name 'starname' is not defined",
     "output_type": "error",
     "traceback": [
      "\u001b[1;31m---------------------------------------------------------------------------\u001b[0m",
      "\u001b[1;31mNameError\u001b[0m                                 Traceback (most recent call last)",
      "Cell \u001b[1;32mIn[36], line 3\u001b[0m\n\u001b[0;32m      1\u001b[0m \u001b[38;5;66;03m#Run wavelength calibration on comparison lamp file.\u001b[39;00m\n\u001b[0;32m      2\u001b[0m \u001b[38;5;28mprint\u001b[39m(\u001b[38;5;124mf\u001b[39m\u001b[38;5;124m'\u001b[39m\u001b[38;5;124mopening file: \u001b[39m\u001b[38;5;132;01m{\u001b[39;00mlampfile\u001b[38;5;132;01m}\u001b[39;00m\u001b[38;5;124m'\u001b[39m)\n\u001b[1;32m----> 3\u001b[0m w\u001b[38;5;241m=\u001b[39m\u001b[43mwcal\u001b[49m\u001b[43m(\u001b[49m\u001b[43mflamp\u001b[49m\u001b[43m)\u001b[49m\n",
      "Cell \u001b[1;32mIn[34], line 137\u001b[0m, in \u001b[0;36mwcal\u001b[1;34m(f, plttt)\u001b[0m\n\u001b[0;32m    135\u001b[0m \u001b[38;5;28;01mdef\u001b[39;00m \u001b[38;5;21mwcal\u001b[39m(f,plttt\u001b[38;5;241m=\u001b[39m\u001b[38;5;124m'\u001b[39m\u001b[38;5;124my\u001b[39m\u001b[38;5;124m'\u001b[39m): \u001b[38;5;66;03m#input e..._comp.fits comparison lamp file\u001b[39;00m\n\u001b[0;32m    136\u001b[0m     \u001b[38;5;66;03m#find central pixel locations of lamp emission lines:\u001b[39;00m\n\u001b[1;32m--> 137\u001b[0m     pc,count\u001b[38;5;241m=\u001b[39m\u001b[43mcentralpixels\u001b[49m\u001b[43m(\u001b[49m\u001b[43mf\u001b[49m\u001b[43m,\u001b[49m\u001b[43mpltt\u001b[49m\u001b[38;5;241;43m=\u001b[39;49m\u001b[43mplttt\u001b[49m\u001b[43m)\u001b[49m\n\u001b[0;32m    139\u001b[0m     \u001b[38;5;66;03m# Take list of pixel centers and laboratory neon line wavelengths and map pixels to wavelengths.\u001b[39;00m\n\u001b[0;32m    140\u001b[0m     wfitz,a,b,c,d\u001b[38;5;241m=\u001b[39mnp\u001b[38;5;241m.\u001b[39mpolyfit(pc,wN,\u001b[38;5;241m3\u001b[39m,full\u001b[38;5;241m=\u001b[39m\u001b[38;5;28;01mTrue\u001b[39;00m)\n",
      "Cell \u001b[1;32mIn[34], line 40\u001b[0m, in \u001b[0;36mcentralpixels\u001b[1;34m(f, pltt)\u001b[0m\n\u001b[0;32m     38\u001b[0m maxx\u001b[38;5;241m=\u001b[39m[i \u001b[38;5;28;01mfor\u001b[39;00m i \u001b[38;5;129;01min\u001b[39;00m argrelextrema(f,np\u001b[38;5;241m.\u001b[39mgreater)[\u001b[38;5;241m0\u001b[39m] \u001b[38;5;28;01mif\u001b[39;00m f[i]\u001b[38;5;241m>\u001b[39m\u001b[38;5;241m10000\u001b[39m]\n\u001b[0;32m     39\u001b[0m \u001b[38;5;28mprint\u001b[39m(maxx)\n\u001b[1;32m---> 40\u001b[0m write_io(source_folder\u001b[38;5;241m+\u001b[39m\u001b[38;5;124m'\u001b[39m\u001b[38;5;130;01m\\\\\u001b[39;00m\u001b[38;5;124mwfun_check\u001b[39m\u001b[38;5;124m'\u001b[39m,\u001b[38;5;28mstr\u001b[39m(maxx)\u001b[38;5;241m+\u001b[39m\u001b[38;5;124m'\u001b[39m\u001b[38;5;130;01m\\r\u001b[39;00m\u001b[38;5;124m'\u001b[39m,\u001b[43mstarname\u001b[49m)\n\u001b[0;32m     41\u001b[0m \u001b[38;5;28;01mfor\u001b[39;00m m \u001b[38;5;129;01min\u001b[39;00m maxx:\n\u001b[0;32m     42\u001b[0m     write_io(source_folder\u001b[38;5;241m+\u001b[39m\u001b[38;5;124m'\u001b[39m\u001b[38;5;130;01m\\\\\u001b[39;00m\u001b[38;5;124mwfun_check\u001b[39m\u001b[38;5;124m'\u001b[39m,\u001b[38;5;124mf\u001b[39m\u001b[38;5;124m'\u001b[39m\u001b[38;5;132;01m{\u001b[39;00mm\u001b[38;5;132;01m}\u001b[39;00m\u001b[38;5;124m:\u001b[39m\u001b[38;5;132;01m{\u001b[39;00mf[m]\u001b[38;5;132;01m}\u001b[39;00m\u001b[38;5;124m'\u001b[39m\u001b[38;5;241m+\u001b[39m\u001b[38;5;124m'\u001b[39m\u001b[38;5;130;01m\\r\u001b[39;00m\u001b[38;5;124m'\u001b[39m,starname)\n",
      "\u001b[1;31mNameError\u001b[0m: name 'starname' is not defined"
     ]
    }
   ],
   "source": [
    "#Run wavelength calibration on comparison lamp file.\n",
    "print(f'opening file: {lampfile}')\n",
    "w=wcal(flamp)"
   ]
  },
  {
   "cell_type": "code",
   "execution_count": 37,
   "id": "d6d121a5-678b-4fd7-9a54-dc5d1606886f",
   "metadata": {},
   "outputs": [
    {
     "ename": "NameError",
     "evalue": "name 'w' is not defined",
     "output_type": "error",
     "traceback": [
      "\u001b[1;31m---------------------------------------------------------------------------\u001b[0m",
      "\u001b[1;31mNameError\u001b[0m                                 Traceback (most recent call last)",
      "Cell \u001b[1;32mIn[37], line 2\u001b[0m\n\u001b[0;32m      1\u001b[0m \u001b[38;5;66;03m#Assign calibrated wavelengths to star flux. Check how it looks:\u001b[39;00m\n\u001b[1;32m----> 2\u001b[0m plotspec(\u001b[43mw\u001b[49m,fstar)\n\u001b[0;32m      3\u001b[0m \u001b[38;5;28mprint\u001b[39m(starfile)\n",
      "\u001b[1;31mNameError\u001b[0m: name 'w' is not defined"
     ]
    }
   ],
   "source": [
    "#Assign calibrated wavelengths to star flux. Check how it looks:\n",
    "plotspec(w,fstar)\n",
    "print(starfile)\n",
    "\n"
   ]
  },
  {
   "cell_type": "markdown",
   "id": "7acfc6ae-0914-498a-8e65-4b6216825536",
   "metadata": {},
   "source": [
    "What should we do to make the process automatically???\n",
    "\n",
    "make two folder: wfun(dataset) and wfun_check(checked information)\n",
    "\n",
    "feature:\n",
    "process all the .fit file(scan_file()) to wfun file and put it into the wfun folder(mkdir(),writedat())\n",
    "put all the information that needed and name it as wfun_check file: including picture and also text information\n",
    "\n"
   ]
  },
  {
   "cell_type": "code",
   "execution_count": null,
   "id": "17f73276-eeca-4949-a053-1ecb6c1b9a0b",
   "metadata": {},
   "outputs": [],
   "source": [
    "\n"
   ]
  },
  {
   "cell_type": "code",
   "execution_count": 38,
   "id": "6abb289e-d5c6-4455-b216-90f1361a2cac",
   "metadata": {},
   "outputs": [
    {
     "name": "stdout",
     "output_type": "stream",
     "text": [
      "c:\\Users\\ZY\\Documents\\github\\233boy\\Dr.-Yep-2024-summer-research\\Day1\\RED\n",
      "['ecfzst_0084_HD36003.fits', 'ecfzst_0088_HD36003_comp_159.09-166.91.fits', 'ecfzst_0089_HD32450.fits', 'ecfzst_0090_HD32450_comp_157.22-165.46.fits', 'ecfzst_0091_HD42581.fits', 'ecfzst_0092_HD42581_comp_159.66-168.85.fits', 'ecfzst_0093_CG4_1.fits', 'ecfzst_0094_CG4_1_comp_159.99-168.55.fits', 'ecfzst_0095_CG4_3.fits', 'ecfzst_0096_CG4_3_comp_159.13-168.39.fits', 'ecfzst_0097_CG4_5.fits', 'ecfzst_0098_CG4_5_comp_161.00-169.57.fits', 'ecfzst_0099_CG4_6.fits', 'ecfzst_0100_CG4_6_comp_158.36-169.07.fits', 'ecfzst_0101_CG30_11.fits', 'ecfzst_0102_CG30_11_comp_162.10-170.51.fits', 'ecfzst_0103_CG30_12_target_1.fits', 'ecfzst_0103_CG30_12_target_2.fits', 'ecfzst_0104_CG30_12_comp_target_1_201.86-210.56.fits', 'ecfzst_0104_CG30_12_comp_target_2_200.00-212.42.fits', 'ecfzst_0105_CG30_13_target_1.fits', 'ecfzst_0105_CG30_13_target_2.fits', 'ecfzst_0105_CG30_13_target_3.fits', 'ecfzst_0106_CG30_13_comp_target_1_181.86-192.19.fits', 'ecfzst_0106_CG30_13_comp_target_2_181.86-192.19.fits', 'ecfzst_0106_CG30_13_comp_target_3_85.09-89.58.fits', 'ecfzst_0107_CG30_9_target_1.fits', 'ecfzst_0107_CG30_9_target_2.fits', 'ecfzst_0108_CG30_9_comp_target_1_182.21-193.34.fits', 'ecfzst_0108_CG30_9_comp_target_2_182.21-193.34.fits', 'ecfzst_0109_CG30_8.fits', 'ecfzst_0110_CG30_8_comp_181.05-193.68.fits', 'ecfzst_0111_CG22_5.fits', 'ecfzst_0112_CG22_5_comp_179.52-193.56.fits']\n",
      "[12, 19, 21, 32, 34, 41, 45, 47, 55, 65, 72, 77, 79, 90, 98, 102, 104, 107, 115, 121, 130, 139, 142, 149, 161, 172, 182, 189, 200, 205, 213, 218, 228, 233, 244, 248, 250, 258, 270, 276, 278, 281, 291, 295, 302, 314, 318, 328, 333, 342, 352, 371, 373, 379, 381, 387, 391, 394, 398, 400, 402, 405, 411, 419, 427, 429, 431, 434, 436, 439, 445, 448, 453, 461, 467, 472, 477, 481, 484, 487, 496, 506, 518, 527, 536, 538, 546, 555, 562, 569, 575, 577, 579, 591, 593, 605, 612, 622, 636, 644, 650, 653, 659, 661, 663, 669, 678, 684, 692, 694, 701, 707, 716, 720, 725, 741, 747, 749, 766, 775, 784, 787, 796, 811, 817, 824, 828, 843, 846, 852, 855, 857, 867, 876, 878, 881, 884, 893, 902, 913, 915, 924, 933, 937, 944, 952, 957, 962, 967, 974, 979, 988, 995, 1005, 1010, 1014, 1016, 1019, 1021, 1028, 1033, 1045, 1049, 1059, 1067, 1073, 1085, 1094, 1103, 1107, 1117, 1125, 1136, 1149, 1153, 1160, 1165, 1176, 1185, 1191, 1193, 1195, 1197, 1199, 1206, 1216, 1220, 1235, 1243, 1247, 1252, 1254, 1265, 1268, 1270, 1282, 1286, 1291, 1300, 1305, 1314, 1322, 1331, 1333, 1335, 1343, 1351, 1355, 1365, 1368, 1377, 1381, 1385, 1387, 1390, 1421, 1425, 1429, 1433, 1435, 1440, 1451, 1457, 1460, 1462, 1469, 1472, 1474, 1481, 1491, 1493, 1495, 1503, 1505, 1516, 1522, 1527, 1531, 1536, 1545, 1547, 1560, 1572, 1575, 1577, 1579, 1586, 1589, 1592, 1594, 1598, 1603, 1606, 1613, 1616, 1626, 1632, 1637, 1642, 1649, 1655, 1660, 1670, 1679, 1681, 1683, 1688, 1690, 1697, 1703, 1709, 1716, 1721, 1729, 1736, 1741, 1750, 1764, 1775, 1780, 1784, 1786, 1788, 1792, 1812, 1819, 1828, 1833, 1837, 1848, 1864, 1871, 1891, 1899, 1901, 1913, 1917, 1924, 1933, 1936, 1945, 1959, 1964, 1967, 1980, 1982, 1984, 1987, 1990, 1992, 1994, 2002, 2008, 2029, 2034, 2040, 2042, 2045, 2053, 2059, 2061, 2087, 2089, 2095, 2097, 2099, 2103, 2105, 2107, 2112, 2118, 2121, 2123, 2127, 2130, 2135, 2141, 2144, 2152, 2165, 2167, 2169, 2177, 2180, 2182, 2185, 2199, 2201, 2203, 2205, 2211, 2218, 2224, 2231, 2254, 2266, 2272, 2274, 2281, 2288, 2298, 2306, 2319, 2321, 2325, 2327, 2333, 2346, 2353, 2355, 2357, 2359, 2363, 2369, 2373, 2376, 2380, 2388, 2396, 2405, 2410, 2412, 2414, 2421, 2430, 2432, 2438, 2442, 2450, 2460, 2467, 2475, 2482, 2487, 2497, 2502, 2510, 2517, 2520, 2531, 2536, 2541, 2550, 2559, 2562, 2564, 2566, 2570, 2577, 2583, 2591, 2594, 2596, 2598, 2605, 2608, 2617, 2619, 2625, 2635, 2640, 2645, 2655, 2662, 2671, 2675, 2677, 2687, 2692, 2701, 2711, 2717, 2719, 2726, 2731, 2734, 2736, 2739, 2750, 2757, 2759, 2767, 2778, 2784, 2787, 2798, 2800, 2803, 2805, 2808, 2810, 2813, 2816, 2819, 2821, 2825, 2838, 2846, 2860, 2865, 2867, 2871, 2875, 2885, 2887, 2898, 2902, 2914, 2918, 2928, 2935, 2937, 2943, 2945, 2954, 2960, 2983, 2986, 2990, 3000, 3002, 3005, 3007, 3009, 3013, 3016, 3032, 3039, 3043, 3055, 3062, 3069, 3074, 3077, 3082, 3084, 3086, 3088, 3090, 3094, 3096, 3099, 3107, 3119, 3121, 3123, 3127, 3132, 3138, 3143, 3153, 3155, 3162, 3165, 3167, 3169, 3175, 3180, 3183, 3187, 3192, 3196, 3202, 3214, 3218, 3221, 3226, 3228, 3237, 3250, 3252, 3254, 3256, 3258, 3264, 3266, 3268, 3272, 3279, 3289, 3300, 3306, 3314, 3326, 3328, 3332, 3337, 3345, 3359, 3364, 3369, 3371, 3373, 3375, 3379, 3385, 3389, 3395, 3400, 3413, 3417, 3420, 3422, 3424, 3431, 3442, 3444, 3447, 3449, 3451, 3453, 3462, 3465, 3471, 3480, 3482, 3484, 3490, 3498, 3511, 3518, 3520, 3522, 3524, 3526, 3534, 3540, 3543, 3557, 3561, 3566, 3568, 3570, 3575, 3580, 3585, 3587, 3596, 3598, 3607, 3616, 3618, 3620, 3626, 3628, 3631, 3633, 3643, 3647, 3653, 3662, 3665, 3667, 3671, 3677, 3679, 3682, 3686, 3689, 3691, 3693, 3696, 3698, 3704, 3716, 3718, 3722, 3725, 3727, 3733, 3737, 3739, 3747, 3750, 3756, 3764, 3770, 3780, 3783, 3785, 3789, 3794, 3798, 3801, 3803, 3806, 3809, 3813, 3815, 3820, 3828, 3836, 3850, 3855, 3862, 3866, 3871, 3874, 3876, 3879, 3881, 3890, 3893, 3895, 3897, 3900, 3902, 3904, 3908, 3910, 3916, 3920, 3923, 3932, 3943, 3948, 3950, 3955, 3959, 3961, 3964, 3969, 3972, 3983, 3985, 3991, 3993, 3995, 4007, 4010, 4012, 4015, 4020, 4022, 4024, 4029, 4031, 4043, 4055]\n"
     ]
    },
    {
     "ename": "NameError",
     "evalue": "name 'starname' is not defined",
     "output_type": "error",
     "traceback": [
      "\u001b[1;31m---------------------------------------------------------------------------\u001b[0m",
      "\u001b[1;31mNameError\u001b[0m                                 Traceback (most recent call last)",
      "Cell \u001b[1;32mIn[38], line 7\u001b[0m\n\u001b[0;32m      4\u001b[0m \u001b[38;5;28mprint\u001b[39m(files)\n\u001b[0;32m      6\u001b[0m \u001b[38;5;28;01mfor\u001b[39;00m lampfile \u001b[38;5;129;01min\u001b[39;00m files:\n\u001b[1;32m----> 7\u001b[0m     \u001b[43mfileprocess\u001b[49m\u001b[43m(\u001b[49m\u001b[43mlampfile\u001b[49m\u001b[43m)\u001b[49m\n\u001b[0;32m      9\u001b[0m \u001b[38;5;66;03m# #Run wavelength calibration on comparison lamp file.\u001b[39;00m\n\u001b[0;32m     10\u001b[0m \u001b[38;5;66;03m# write_io(source_folder+'\\\\wfun_check',f\"opening file: {lampfile}, name:{starname}+'\\r'\",starname)\u001b[39;00m\n\u001b[0;32m     11\u001b[0m \n\u001b[1;32m   (...)\u001b[0m\n\u001b[0;32m     15\u001b[0m \n\u001b[0;32m     16\u001b[0m \u001b[38;5;66;03m# #write the check info and combine the picture\u001b[39;00m\n",
      "Cell \u001b[1;32mIn[34], line 22\u001b[0m, in \u001b[0;36mfileprocess\u001b[1;34m(lampfile)\u001b[0m\n\u001b[0;32m     20\u001b[0m identity\u001b[38;5;241m=\u001b[39mhead[\u001b[38;5;124m'\u001b[39m\u001b[38;5;124mGSP_FNAM\u001b[39m\u001b[38;5;124m'\u001b[39m]\n\u001b[0;32m     21\u001b[0m \u001b[38;5;66;03m#draw the graph and save the picture\u001b[39;00m\n\u001b[1;32m---> 22\u001b[0m w,count\u001b[38;5;241m=\u001b[39m\u001b[43mwcal\u001b[49m\u001b[43m(\u001b[49m\u001b[43mflamp\u001b[49m\u001b[43m)\u001b[49m\n\u001b[0;32m     23\u001b[0m \u001b[38;5;66;03m# Paths to the images to combine\u001b[39;00m\n\u001b[0;32m     24\u001b[0m image_paths \u001b[38;5;241m=\u001b[39m scan_file(source_folder\u001b[38;5;241m+\u001b[39m\u001b[38;5;124m'\u001b[39m\u001b[38;5;130;01m\\\\\u001b[39;00m\u001b[38;5;124mwfun_check\u001b[39m\u001b[38;5;124m'\u001b[39m, extension\u001b[38;5;241m=\u001b[39m\u001b[38;5;124m\"\u001b[39m\u001b[38;5;124m.png\u001b[39m\u001b[38;5;124m\"\u001b[39m)\n",
      "Cell \u001b[1;32mIn[34], line 137\u001b[0m, in \u001b[0;36mwcal\u001b[1;34m(f, plttt)\u001b[0m\n\u001b[0;32m    135\u001b[0m \u001b[38;5;28;01mdef\u001b[39;00m \u001b[38;5;21mwcal\u001b[39m(f,plttt\u001b[38;5;241m=\u001b[39m\u001b[38;5;124m'\u001b[39m\u001b[38;5;124my\u001b[39m\u001b[38;5;124m'\u001b[39m): \u001b[38;5;66;03m#input e..._comp.fits comparison lamp file\u001b[39;00m\n\u001b[0;32m    136\u001b[0m     \u001b[38;5;66;03m#find central pixel locations of lamp emission lines:\u001b[39;00m\n\u001b[1;32m--> 137\u001b[0m     pc,count\u001b[38;5;241m=\u001b[39m\u001b[43mcentralpixels\u001b[49m\u001b[43m(\u001b[49m\u001b[43mf\u001b[49m\u001b[43m,\u001b[49m\u001b[43mpltt\u001b[49m\u001b[38;5;241;43m=\u001b[39;49m\u001b[43mplttt\u001b[49m\u001b[43m)\u001b[49m\n\u001b[0;32m    139\u001b[0m     \u001b[38;5;66;03m# Take list of pixel centers and laboratory neon line wavelengths and map pixels to wavelengths.\u001b[39;00m\n\u001b[0;32m    140\u001b[0m     wfitz,a,b,c,d\u001b[38;5;241m=\u001b[39mnp\u001b[38;5;241m.\u001b[39mpolyfit(pc,wN,\u001b[38;5;241m3\u001b[39m,full\u001b[38;5;241m=\u001b[39m\u001b[38;5;28;01mTrue\u001b[39;00m)\n",
      "Cell \u001b[1;32mIn[34], line 40\u001b[0m, in \u001b[0;36mcentralpixels\u001b[1;34m(f, pltt)\u001b[0m\n\u001b[0;32m     38\u001b[0m maxx\u001b[38;5;241m=\u001b[39m[i \u001b[38;5;28;01mfor\u001b[39;00m i \u001b[38;5;129;01min\u001b[39;00m argrelextrema(f,np\u001b[38;5;241m.\u001b[39mgreater)[\u001b[38;5;241m0\u001b[39m] \u001b[38;5;28;01mif\u001b[39;00m f[i]\u001b[38;5;241m>\u001b[39m\u001b[38;5;241m10000\u001b[39m]\n\u001b[0;32m     39\u001b[0m \u001b[38;5;28mprint\u001b[39m(maxx)\n\u001b[1;32m---> 40\u001b[0m write_io(source_folder\u001b[38;5;241m+\u001b[39m\u001b[38;5;124m'\u001b[39m\u001b[38;5;130;01m\\\\\u001b[39;00m\u001b[38;5;124mwfun_check\u001b[39m\u001b[38;5;124m'\u001b[39m,\u001b[38;5;28mstr\u001b[39m(maxx)\u001b[38;5;241m+\u001b[39m\u001b[38;5;124m'\u001b[39m\u001b[38;5;130;01m\\r\u001b[39;00m\u001b[38;5;124m'\u001b[39m,\u001b[43mstarname\u001b[49m)\n\u001b[0;32m     41\u001b[0m \u001b[38;5;28;01mfor\u001b[39;00m m \u001b[38;5;129;01min\u001b[39;00m maxx:\n\u001b[0;32m     42\u001b[0m     write_io(source_folder\u001b[38;5;241m+\u001b[39m\u001b[38;5;124m'\u001b[39m\u001b[38;5;130;01m\\\\\u001b[39;00m\u001b[38;5;124mwfun_check\u001b[39m\u001b[38;5;124m'\u001b[39m,\u001b[38;5;124mf\u001b[39m\u001b[38;5;124m'\u001b[39m\u001b[38;5;132;01m{\u001b[39;00mm\u001b[38;5;132;01m}\u001b[39;00m\u001b[38;5;124m:\u001b[39m\u001b[38;5;132;01m{\u001b[39;00mf[m]\u001b[38;5;132;01m}\u001b[39;00m\u001b[38;5;124m'\u001b[39m\u001b[38;5;241m+\u001b[39m\u001b[38;5;124m'\u001b[39m\u001b[38;5;130;01m\\r\u001b[39;00m\u001b[38;5;124m'\u001b[39m,starname)\n",
      "\u001b[1;31mNameError\u001b[0m: name 'starname' is not defined"
     ]
    }
   ],
   "source": [
    "\n",
    "\n",
    "\n",
    "\n",
    "#find the file list \n",
    "wfun,files = scan_file(source_folder, extension=\".fits\")\n",
    "print(source_folder)\n",
    "print(files)\n",
    "\n",
    "for lampfile in files:\n",
    "    fileprocess(lampfile)\n",
    "    \n",
    "# #Run wavelength calibration on comparison lamp file.\n",
    "# write_io(source_folder+'\\\\wfun_check',f\"opening file: {lampfile}, name:{starname}+'\\r'\",starname)\n",
    "\n",
    "\n",
    "# lampfile=r'C:\\Users\\ZY\\Downloads\\ecfzst_0057_CG4_8_comp_165.98-175.83.fits'\n",
    "\n",
    "\n",
    "# #write the check info and combine the picture\n"
   ]
  },
  {
   "cell_type": "code",
   "execution_count": 39,
   "id": "96c2b78d-da2f-4fc7-9c70-037a11c9ac1b",
   "metadata": {},
   "outputs": [
    {
     "name": "stdout",
     "output_type": "stream",
     "text": [
      "ecfzst_0084_HD36003.fits\n"
     ]
    }
   ],
   "source": [
    "\n",
    "lampfile=r'C:\\Users\\ZY\\Documents\\github\\233boy\\Dr.-Yep-2024-summer-research\\Day1\\RED\\ecfzst_0084_HD36003.fits'\n",
    "with fits.open(lampfile) as fit:\n",
    "    head=fit[0].header['GSP_FNAM']\n",
    "    print(head)"
   ]
  },
  {
   "cell_type": "code",
   "execution_count": null,
   "id": "a8e495a0-9ba8-4d4b-8cc3-87f7675a009d",
   "metadata": {},
   "outputs": [],
   "source": []
  },
  {
   "cell_type": "code",
   "execution_count": null,
   "id": "e9f5666a",
   "metadata": {},
   "outputs": [],
   "source": []
  }
 ],
 "metadata": {
  "kernelspec": {
   "display_name": "Python 3 (ipykernel)",
   "language": "python",
   "name": "python3"
  },
  "language_info": {
   "codemirror_mode": {
    "name": "ipython",
    "version": 3
   },
   "file_extension": ".py",
   "mimetype": "text/x-python",
   "name": "python",
   "nbconvert_exporter": "python",
   "pygments_lexer": "ipython3",
   "version": "3.10.9"
  }
 },
 "nbformat": 4,
 "nbformat_minor": 5
}
